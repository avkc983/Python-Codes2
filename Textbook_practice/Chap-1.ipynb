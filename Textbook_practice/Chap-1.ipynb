{
 "cells": [
  {
   "cell_type": "code",
   "execution_count": 2,
   "metadata": {},
   "outputs": [
    {
     "name": "stdout",
     "output_type": "stream",
     "text": [
      "(1, 2)\n",
      "(1, 2)\n"
     ]
    }
   ],
   "source": [
    "# tuples\n",
    "h_tuple = (1,2)\n",
    "print(str(h_tuple))\n",
    "print((h_tuple))"
   ]
  },
  {
   "cell_type": "code",
   "execution_count": 10,
   "metadata": {},
   "outputs": [],
   "source": [
    "# To input integers and use loops\n",
    "\n",
    "import sys\n",
    "target_int = input(\"How many integers? \")\n",
    "\n",
    "try:\n",
    "    target_int = int(target_int)\n",
    "except ValueError:\n",
    "    sys.exit(\"You must enter an integer\")"
   ]
  },
  {
   "cell_type": "code",
   "execution_count": 37,
   "metadata": {},
   "outputs": [
    {
     "name": "stdout",
     "output_type": "stream",
     "text": [
      "[1 3 5 7 9]\n",
      "(5,)\n",
      "5\n",
      "6\n",
      "<class 'numpy.ndarray'>\n",
      "3\n"
     ]
    }
   ],
   "source": [
    "# Arrays\n",
    "import numpy as np\n",
    "a=np.arange(1,10,2)  # arange is for 1D arrays and for sequences only\n",
    "print(a)\n",
    "print(a.shape)\n",
    "print(len(a))\n",
    "\n",
    "b= np.array([[1,2],\n",
    "             [4,3],\n",
    "             [6,2]])\n",
    "#b=np.array([np.arange(1,10),np.arange(2,5)])\n",
    "print(b[2][0])\n",
    "print(type(b))\n",
    "print(len(b))"
   ]
  },
  {
   "cell_type": "code",
   "execution_count": 33,
   "metadata": {},
   "outputs": [
    {
     "name": "stdout",
     "output_type": "stream",
     "text": [
      "2\n",
      "<class 'numpy.matrix'>\n",
      "3\n"
     ]
    }
   ],
   "source": [
    "#Matrices\n",
    "import numpy as np\n",
    "a=np.mat(\"1,2; 1,2; 2,2\")\n",
    "print(a[2,1])\n",
    "print(type(a))\n",
    "print(len(a))"
   ]
  },
  {
   "cell_type": "code",
   "execution_count": 42,
   "metadata": {},
   "outputs": [
    {
     "name": "stdout",
     "output_type": "stream",
     "text": [
      "True\n"
     ]
    }
   ],
   "source": [
    "x=\"a\"\n",
    "# x=complex(x)\n",
    "print(bool(x))"
   ]
  },
  {
   "cell_type": "code",
   "execution_count": 52,
   "metadata": {},
   "outputs": [
    {
     "name": "stdout",
     "output_type": "stream",
     "text": [
      "[]\n"
     ]
    }
   ],
   "source": [
    "fruits = [\"apple\", \"banana\", \"cherry\", \"orange\", \"kiwi\", \"melon\", \"mango\"]\n",
    "print(fruits[1:1])"
   ]
  },
  {
   "cell_type": "code",
   "execution_count": 55,
   "metadata": {},
   "outputs": [
    {
     "name": "stdout",
     "output_type": "stream",
     "text": [
      "5\n"
     ]
    }
   ],
   "source": [
    "print(len(range(5)))"
   ]
  },
  {
   "cell_type": "code",
   "execution_count": null,
   "metadata": {},
   "outputs": [],
   "source": []
  }
 ],
 "metadata": {
  "kernelspec": {
   "display_name": "base",
   "language": "python",
   "name": "python3"
  },
  "language_info": {
   "codemirror_mode": {
    "name": "ipython",
    "version": 3
   },
   "file_extension": ".py",
   "mimetype": "text/x-python",
   "name": "python",
   "nbconvert_exporter": "python",
   "pygments_lexer": "ipython3",
   "version": "3.10.9"
  }
 },
 "nbformat": 4,
 "nbformat_minor": 2
}
