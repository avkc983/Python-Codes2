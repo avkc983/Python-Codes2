{
 "cells": [
  {
   "cell_type": "code",
   "execution_count": 2,
   "metadata": {},
   "outputs": [],
   "source": [
    "import numpy as np\n",
    "def readGamry(filename):\n",
    "    \"\"\" function for reading the .DTA file from Gamry\n",
    "\n",
    "    Parameters\n",
    "    ----------\n",
    "    filename: string\n",
    "        Filename of .DTA file to extract impedance data from\n",
    "\n",
    "    Returns\n",
    "    -------\n",
    "    frequencies : np.ndarray\n",
    "        Array of frequencies\n",
    "    impedance : np.ndarray of complex numbers\n",
    "        Array of complex impedances\n",
    "\n",
    "    \"\"\"\n",
    "\n",
    "    with open(filename, 'r', encoding='ISO-8859-1') as input_file:\n",
    "        lines = input_file.readlines()\n",
    "    \n",
    "    end_line = 0\n",
    "\n",
    "    for i, line in enumerate(lines):\n",
    "        if 'ZCURVE' in line:\n",
    "            start_line = i\n",
    "        if 'EXPERIMENTABORTED' in line:\n",
    "            end_line = i\n",
    "\n",
    "    if end_line != 0:\n",
    "        raw_data = lines[start_line + 3:end_line]\n",
    "    else:\n",
    "        raw_data = lines[start_line + 3:]\n",
    "\n",
    "    f, Z = [], []\n",
    "    for line in raw_data:\n",
    "        line = line.replace(\",\", \".\")\n",
    "        each = line.split()\n",
    "        f.append(float(each[2]))\n",
    "        Z.append(complex(float(each[3]), float(each[4])))\n",
    "\n",
    "    return np.array(f), np.array(Z)"
   ]
  }
 ],
 "metadata": {
  "kernelspec": {
   "display_name": "base",
   "language": "python",
   "name": "python3"
  },
  "language_info": {
   "codemirror_mode": {
    "name": "ipython",
    "version": 3
   },
   "file_extension": ".py",
   "mimetype": "text/x-python",
   "name": "python",
   "nbconvert_exporter": "python",
   "pygments_lexer": "ipython3",
   "version": "3.10.9"
  }
 },
 "nbformat": 4,
 "nbformat_minor": 2
}
