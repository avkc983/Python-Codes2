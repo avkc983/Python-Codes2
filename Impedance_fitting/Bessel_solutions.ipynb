{
 "cells": [
  {
   "cell_type": "code",
   "execution_count": 2,
   "metadata": {},
   "outputs": [],
   "source": [
    "import numpy as np\n",
    "import matplotlib.pyplot as plt\n",
    "import scipy\n",
    "from sympy import *"
   ]
  },
  {
   "cell_type": "code",
   "execution_count": 5,
   "metadata": {},
   "outputs": [
    {
     "ename": "TypeError",
     "evalue": "'list' object cannot be interpreted as an integer",
     "output_type": "error",
     "traceback": [
      "\u001b[1;31m---------------------------------------------------------------------------\u001b[0m",
      "\u001b[1;31mTypeError\u001b[0m                                 Traceback (most recent call last)",
      "Cell \u001b[1;32mIn[5], line 7\u001b[0m\n\u001b[0;32m      4\u001b[0m NN \u001b[38;5;241m=\u001b[39m \u001b[38;5;241m10\u001b[39m   \u001b[38;5;66;03m# No of solutions of the equation\u001b[39;00m\n\u001b[0;32m      5\u001b[0m solutions \u001b[38;5;241m=\u001b[39m[]\n\u001b[1;32m----> 7\u001b[0m \u001b[38;5;28;01mfor\u001b[39;00m i \u001b[38;5;129;01min\u001b[39;00m \u001b[38;5;28;43mrange\u001b[39;49m\u001b[43m(\u001b[49m\u001b[43m[\u001b[49m\u001b[38;5;241;43m1\u001b[39;49m\u001b[43m,\u001b[49m\u001b[43mNN\u001b[49m\u001b[43m]\u001b[49m\u001b[43m)\u001b[49m:\n\u001b[0;32m      8\u001b[0m     \u001b[38;5;66;03m# sol = nsolve(besselj(1,lam),sol+3,prec= 5)\u001b[39;00m\n\u001b[0;32m      9\u001b[0m     \u001b[38;5;66;03m# solutions.append(sol)\u001b[39;00m\n\u001b[0;32m     10\u001b[0m     sol \u001b[38;5;241m=\u001b[39m nsolve(besselj(\u001b[38;5;241m1\u001b[39m,lam),sol\u001b[38;5;241m+\u001b[39m\u001b[38;5;241m3\u001b[39m,prec\u001b[38;5;241m=\u001b[39m \u001b[38;5;241m5\u001b[39m)\n\u001b[0;32m     11\u001b[0m     solutions[i] \u001b[38;5;241m=\u001b[39m sol\n",
      "\u001b[1;31mTypeError\u001b[0m: 'list' object cannot be interpreted as an integer"
     ]
    }
   ],
   "source": [
    "# To get solutions of characteristic equations\n",
    "lam = Symbol(\"lambda\")\n",
    "sol = 0   # First solution\n",
    "NN = 10   # No of solutions of the equation\n",
    "solutions =zeros(1,NN)\n",
    "\n",
    "for i in range(1,NN):\n",
    "    # sol = nsolve(besselj(1,lam),sol+3,prec= 5)\n",
    "    # solutions.append(sol)\n",
    "    sol = nsolve(besselj(1,lam),sol+3,prec= 5)\n",
    "    solutions[i] = sol\n",
    "\n",
    "#solutions= [0,solutions]\n",
    "print(solutions)\n",
    "print(solutions[2])\n",
    "\n",
    "# x=np.linspace(1,NN,NN)\n",
    "# print(x)\n",
    "# plt.plot(solutions)"
   ]
  },
  {
   "cell_type": "code",
   "execution_count": null,
   "metadata": {},
   "outputs": [],
   "source": []
  }
 ],
 "metadata": {
  "kernelspec": {
   "display_name": "base",
   "language": "python",
   "name": "python3"
  },
  "language_info": {
   "codemirror_mode": {
    "name": "ipython",
    "version": 3
   },
   "file_extension": ".py",
   "mimetype": "text/x-python",
   "name": "python",
   "nbconvert_exporter": "python",
   "pygments_lexer": "ipython3",
   "version": "3.10.9"
  }
 },
 "nbformat": 4,
 "nbformat_minor": 2
}
