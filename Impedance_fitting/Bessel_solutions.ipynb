{
 "cells": [
  {
   "cell_type": "code",
   "execution_count": 7,
   "metadata": {},
   "outputs": [],
   "source": [
    "import numpy as np\n",
    "import matplotlib.pyplot as plt\n",
    "import scipy\n",
    "from sympy import *"
   ]
  },
  {
   "cell_type": "code",
   "execution_count": 38,
   "metadata": {},
   "outputs": [
    {
     "name": "stdout",
     "output_type": "stream",
     "text": [
      "Matrix([[0, 3.8317, 7.0156, 10.173, 13.324, 16.471, 19.616, 22.760, 25.904, 29.047]])\n",
      "7.0156\n",
      "[ 1.  2.  3.  4.  5.  6.  7.  8.  9. 10.]\n"
     ]
    },
    {
     "data": {
      "text/plain": [
       "[<matplotlib.lines.Line2D at 0x1d123868730>,\n",
       " <matplotlib.lines.Line2D at 0x1d123868790>,\n",
       " <matplotlib.lines.Line2D at 0x1d1238687c0>,\n",
       " <matplotlib.lines.Line2D at 0x1d1238688b0>,\n",
       " <matplotlib.lines.Line2D at 0x1d1238689a0>,\n",
       " <matplotlib.lines.Line2D at 0x1d123868a90>,\n",
       " <matplotlib.lines.Line2D at 0x1d123868b80>,\n",
       " <matplotlib.lines.Line2D at 0x1d123868c70>,\n",
       " <matplotlib.lines.Line2D at 0x1d123868d60>,\n",
       " <matplotlib.lines.Line2D at 0x1d123868e50>]"
      ]
     },
     "execution_count": 38,
     "metadata": {},
     "output_type": "execute_result"
    },
    {
     "data": {
      "image/png": "[encoded data removed]",
      "text/plain": [
       "<Figure size 640x480 with 1 Axes>"
      ]
     },
     "metadata": {},
     "output_type": "display_data"
    }
   ],
   "source": [
    "# To get solutions of characteristic equations\n",
    "lam = Symbol(\"lambda\")\n",
    "sol = 0   # First solution\n",
    "NN = 10   # No of solutions of the equation\n",
    "solutions =zeros(1,NN)\n",
    "\n",
    "for i in range(1,NN):\n",
    "    # sol = nsolve(besselj(1,lam),sol+3,prec= 5)\n",
    "    # solutions.append(sol)\n",
    "    sol = nsolve(besselj(1,lam),sol+3,prec= 5)\n",
    "    solutions[i] = sol\n",
    "\n",
    "#solutions= [0,solutions]\n",
    "print(solutions)\n",
    "print(solutions[2])\n",
    "\n",
    "# x=np.linspace(1,NN,NN)\n",
    "# print(x)\n",
    "# plt.plot(solutions)"
   ]
  },
  {
   "cell_type": "code",
   "execution_count": null,
   "metadata": {},
   "outputs": [],
   "source": []
  }
 ],
 "metadata": {
  "kernelspec": {
   "display_name": "base",
   "language": "python",
   "name": "python3"
  },
  "language_info": {
   "codemirror_mode": {
    "name": "ipython",
    "version": 3
   },
   "file_extension": ".py",
   "mimetype": "text/x-python",
   "name": "python",
   "nbconvert_exporter": "python",
   "pygments_lexer": "ipython3",
   "version": "3.10.9"
  }
 },
 "nbformat": 4,
 "nbformat_minor": 2
}
