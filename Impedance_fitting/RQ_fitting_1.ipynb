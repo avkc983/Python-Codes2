{
 "cells": [
  {
   "cell_type": "code",
   "execution_count": 163,
   "metadata": {},
   "outputs": [],
   "source": [
    "import numpy as np\n",
    "import matplotlib.pyplot as plt\n",
    "#from impedance.preprocessing import readGamry\n",
    "\n",
    "\n",
    "\n",
    "# Z_exp = open(\"Exp-data.DTA\")\n",
    "# print(Z_exp.read())\n",
    "\n",
    "# f,Z_exp2= readGamry(\"1PVDF_K_0_0131_top16mm_A.DTA\")\n",
    "# print(Z_exp2)\n",
    "# print(f)\n",
    "\n",
    "\n",
    "filename = \"1PVDF_K_0_0131_top16mm_A.DTA\"\n",
    "\n",
    "with open(filename, 'r', encoding='ISO-8859-1') as input_file:\n",
    "        lines = input_file.readlines()\n",
    "        \n",
    "for count,line in enumerate(lines):\n",
    "    if \"ZCURVE\" in line:\n",
    "         start_line = count+3\n",
    "raw_data = lines[start_line:]\n",
    "\n",
    "freq_exp, ReZ_exp, ImZ_exp =[], [], []\n",
    "\n",
    "for line in raw_data:\n",
    "        # line = line.replace(\",\", \".\")\n",
    "        each_line = line.split()\n",
    "        freq_exp.append(float(each_line[2]))\n",
    "        ReZ_exp.append(float(each_line[3]))\n",
    "        ImZ_exp.append(float(each_line[4]))\n",
    "\n",
    "freq_exp =np.array(freq_exp)  \n",
    "ReZ_exp =np.array(ReZ_exp) \n",
    "ImZ_exp =np.array(ImZ_exp)    \n",
    "#print(freq_exp)  \n",
    "#print(ReZ_exp) "
   ]
  },
  {
   "cell_type": "code",
   "execution_count": 165,
   "metadata": {},
   "outputs": [],
   "source": [
    "# RQ initialization\n",
    "\n",
    "R_f = 10\n",
    "Q_f = 3e-5\n",
    "alp = 0.8\n",
    "\n",
    "# freq =np.logspace(5,1,10);\n",
    "# omega = 2*np.pi*freq\n",
    "# Impedance_rq = R_f + 1/(((1j*omega)**alp)*Q_f)\n",
    "# print(Impedance_rq)"
   ]
  },
  {
   "cell_type": "code",
   "execution_count": null,
   "metadata": {},
   "outputs": [],
   "source": [
    "\n"
   ]
  },
  {
   "cell_type": "code",
   "execution_count": 190,
   "metadata": {},
   "outputs": [
    {
     "name": "stdout",
     "output_type": "stream",
     "text": [
      "0.002 3.1e-05 0.8706\n"
     ]
    },
    {
     "data": {
      "image/png": "[encoded data removed]",
      "text/plain": [
       "<Figure size 640x480 with 1 Axes>"
      ]
     },
     "metadata": {},
     "output_type": "display_data"
    }
   ],
   "source": [
    "from scipy.optimize import minimize, NonlinearConstraint\n",
    "\n",
    "def objective(x):\n",
    "    \n",
    "    \n",
    "    omega = 2*np.pi*freq_exp\n",
    "    R_f = x[0]\n",
    "    Q_f = x[1]\n",
    "    alp = x[2]\n",
    "\n",
    "    Impedance_rq = R_f + 1/(((1j*omega)**alp)*Q_f)\n",
    "    # print(Impedance_rq)\n",
    "    terms = (np.real(Impedance_rq) - ReZ_exp)**2 +(np.imag(Impedance_rq) - ImZ_exp)**2\n",
    "    Chi_square = sum(terms)\n",
    "    return Chi_square\n",
    "\n",
    "# def constraint(x):\n",
    "#     return x[0]**2 + x[1]**2 - 1\n",
    "\n",
    "# initial guess\n",
    "x0 = [1, 1, 1]\n",
    "\n",
    "# define the bounds for the variables\n",
    "bounds = ((0, 1000), (0, 10),(0, 1))\n",
    "\n",
    "# define the nonlinear constraint\n",
    "# nonlinear_constraint = NonlinearConstraint(constraint, -np.inf, 0)\n",
    "\n",
    "# minimize the objective function subject to the nonlinear constraint\n",
    "res = minimize(objective,x0, method='trust-constr', constraints=[], bounds=bounds)\n",
    "# res = curve_fit(objective,x0, method='trust-constr', constraints=[], bounds=bounds)\n",
    "\n",
    "#print(f\"{res.fun:.4f}\")\n",
    "#print(res.x)\n",
    "Chi_square_min = res.fun\n",
    "R_fit = round(res.x[0],4)\n",
    "Q_fit = round(res.x[1],6)\n",
    "alp_fit = round(res.x[2],4)\n",
    "omega = 2*np.pi*freq_exp\n",
    "Impedance_rq_fit= R_fit + 1/(((1j*omega)**alp_fit)*Q_fit)\n",
    "print(R_fit,Q_fit,alp_fit)\n",
    "\n",
    "#print(f\"The minimum value of the objective function is {res.fun:.4f} at x = {res.x}.\")\n",
    "\n",
    "\n",
    "####Plots\n",
    "plt.plot(ReZ_exp,-ImZ_exp,'o-',ms=2)\n",
    "plt.plot(np.real(Impedance_rq_fit),-np.imag(Impedance_rq_fit),'x-',ms=2)\n",
    "plt.xlim(0,5000)\n",
    "plt.gca().set_aspect('equal')\n",
    "plt.show()\n"
   ]
  },
  {
   "cell_type": "code",
   "execution_count": 191,
   "metadata": {},
   "outputs": [
    {
     "ename": "ModuleNotFoundError",
     "evalue": "No module named 'mpl_interactions'",
     "output_type": "error",
     "traceback": [
      "\u001b[1;31m---------------------------------------------------------------------------\u001b[0m",
      "\u001b[1;31mModuleNotFoundError\u001b[0m                       Traceback (most recent call last)",
      "Cell \u001b[1;32mIn[191], line 1\u001b[0m\n\u001b[1;32m----> 1\u001b[0m \u001b[38;5;28;01mfrom\u001b[39;00m \u001b[38;5;21;01mmpl_interactions\u001b[39;00m \u001b[38;5;28;01mimport\u001b[39;00m ioff, panhandler, zoom_factory\n\u001b[0;32m      2\u001b[0m \u001b[38;5;28;01mimport\u001b[39;00m \u001b[38;5;21;01mmatplotlib\u001b[39;00m\u001b[38;5;21;01m.\u001b[39;00m\u001b[38;5;21;01mpyplot\u001b[39;00m \u001b[38;5;28;01mas\u001b[39;00m \u001b[38;5;21;01mplt\u001b[39;00m\n\u001b[0;32m      3\u001b[0m get_ipython()\u001b[38;5;241m.\u001b[39mrun_line_magic(\u001b[38;5;124m'\u001b[39m\u001b[38;5;124mmatplotlib\u001b[39m\u001b[38;5;124m'\u001b[39m, \u001b[38;5;124m'\u001b[39m\u001b[38;5;124mwidget\u001b[39m\u001b[38;5;124m'\u001b[39m)\n",
      "\u001b[1;31mModuleNotFoundError\u001b[0m: No module named 'mpl_interactions'"
     ]
    }
   ],
   "source": [
    "from mpl_interactions import ioff, panhandler, zoom_factory\n",
    "import matplotlib.pyplot as plt\n",
    "%matplotlib widget\n",
    "\n",
    "# Create a dataset or load your own dataset for plotting the graph\n",
    "data = {'x': [1, 2, 3, 4, 5], 'y': [2, 4, 6, 8, 10]}\n",
    "\n",
    "# Interactions library function like ioff and zoom_factory.\n",
    "with plt.ioff():\n",
    "    fig, ax = plt.subplots()\n",
    "    plt.xlabel('X-axis')\n",
    "    plt.ylabel('Y-axis')\n",
    "    plt.title('Plot with zoom enabled')\n",
    "    plt.plot(data['x'], data['y'], color='blue')\n",
    "    disconnect_zoom = zoom_factory(ax)\n",
    "\n",
    "    # Interactions library function like panhandler.\n",
    "    pan_handler = panhandler(fig)\n",
    "    display(fig.canvas)\n"
   ]
  },
  {
   "cell_type": "code",
   "execution_count": null,
   "metadata": {},
   "outputs": [],
   "source": []
  }
 ],
 "metadata": {
  "kernelspec": {
   "display_name": "base",
   "language": "python",
   "name": "python3"
  },
  "language_info": {
   "codemirror_mode": {
    "name": "ipython",
    "version": 3
   },
   "file_extension": ".py",
   "mimetype": "text/x-python",
   "name": "python",
   "nbconvert_exporter": "python",
   "pygments_lexer": "ipython3",
   "version": "3.10.9"
  }
 },
 "nbformat": 4,
 "nbformat_minor": 2
}
