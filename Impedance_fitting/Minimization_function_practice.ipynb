{
 "cells": [
  {
   "cell_type": "code",
   "execution_count": 2,
   "metadata": {},
   "outputs": [],
   "source": [
    "import numpy as np"
   ]
  },
  {
   "cell_type": "code",
   "execution_count": 3,
   "metadata": {},
   "outputs": [
    {
     "name": "stdout",
     "output_type": "stream",
     "text": [
      "The minimum value of the objective function is 2.8648 at x = [0.37139144 0.92847598].\n"
     ]
    }
   ],
   "source": [
    "from scipy.optimize import minimize, NonlinearConstraint\n",
    "\n",
    "def objective(x):\n",
    "    return (x[0] - 1)**2 + (x[1] - 2.5)**2\n",
    "\n",
    "def constraint(x):\n",
    "    return x[0]**2 + x[1]**2 - 1\n",
    "\n",
    "# initial guess\n",
    "x0 = [0, 0]\n",
    "\n",
    "# define the bounds for the variables\n",
    "bounds = ((-1, 1), (-1, 1))\n",
    "\n",
    "# define the nonlinear constraint\n",
    "nonlinear_constraint = NonlinearConstraint(constraint, -np.inf, 0)\n",
    "\n",
    "# minimize the objective function subject to the nonlinear constraint\n",
    "res = minimize(objective, x0, method='trust-constr', constraints=[nonlinear_constraint], bounds=bounds)\n",
    "\n",
    "print(f\"The minimum value of the objective function is {res.fun:.4f} at x = {res.x}.\")\n"
   ]
  },
  {
   "cell_type": "code",
   "execution_count": null,
   "metadata": {},
   "outputs": [],
   "source": []
  }
 ],
 "metadata": {
  "kernelspec": {
   "display_name": "base",
   "language": "python",
   "name": "python3"
  },
  "language_info": {
   "codemirror_mode": {
    "name": "ipython",
    "version": 3
   },
   "file_extension": ".py",
   "mimetype": "text/x-python",
   "name": "python",
   "nbconvert_exporter": "python",
   "pygments_lexer": "ipython3",
   "version": "3.10.9"
  }
 },
 "nbformat": 4,
 "nbformat_minor": 2
}
