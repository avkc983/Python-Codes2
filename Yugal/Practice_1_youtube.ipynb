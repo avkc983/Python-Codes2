{
 "cells": [
  {
   "cell_type": "markdown",
   "metadata": {},
   "source": []
  },
  {
   "cell_type": "code",
   "execution_count": 1,
   "metadata": {},
   "outputs": [],
   "source": [
    "import random\n",
    "\n",
    "def get_choices():\n",
    "    player_choice =input(\"Enter a choice(RPS: \")\n",
    "    options = [\"rock\", \"paper\", \"scissors\"]\n",
    "    computer_choice =  random.choice(options)\n",
    "    choices = {\"player\":player_choice, \"computer\":computer_choice}  # dictionary format \n",
    "    return choices\n",
    "\n",
    "def check_win(player, computer):\n",
    "    if player == computer:\n",
    "        return \"Commoit in Github\"\n",
    "    \n",
    "\n",
    "\n"
   ]
  },
  {
   "cell_type": "code",
   "execution_count": null,
   "metadata": {},
   "outputs": [],
   "source": []
  },
  {
   "cell_type": "code",
   "execution_count": null,
   "metadata": {},
   "outputs": [],
   "source": []
  }
 ],
 "metadata": {
  "kernelspec": {
   "display_name": "base",
   "language": "python",
   "name": "python3"
  },
  "language_info": {
   "codemirror_mode": {
    "name": "ipython",
    "version": 3
   },
   "file_extension": ".py",
   "mimetype": "text/x-python",
   "name": "python",
   "nbconvert_exporter": "python",
   "pygments_lexer": "ipython3",
   "version": "3.10.9"
  }
 },
 "nbformat": 4,
 "nbformat_minor": 2
}
