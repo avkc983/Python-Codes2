{
 "cells": [
  {
   "cell_type": "markdown",
   "metadata": {},
   "source": [
    "### Hello"
   ]
  },
  {
   "cell_type": "code",
   "execution_count": 1,
   "metadata": {},
   "outputs": [],
   "source": [
    "import scipy"
   ]
  },
  {
   "cell_type": "code",
   "execution_count": 2,
   "metadata": {},
   "outputs": [
    {
     "name": "stderr",
     "output_type": "stream",
     "text": [
      "c:\\Users\\Admin\\anaconda3\\lib\\site-packages\\impedance\\models\\circuits\\circuits.py:145: UserWarning: Simulating circuit based on initial parameters\n",
      "  warnings.warn(\"Simulating circuit based on initial parameters\")\n"
     ]
    },
    {
     "name": "stdout",
     "output_type": "stream",
     "text": [
      "\n",
      "Circuit string: R_1-CPE_1\n",
      "Fit: True\n",
      "\n",
      "Initial guesses:\n",
      "    R_1 = 1.00e+00 [Ohm]\n",
      "  CPE_1_0 = 1.00e-03 [Ohm^-1 sec^a]\n",
      "  CPE_1_1 = 1.00e+00 []\n",
      "\n",
      "Fit parameters:\n",
      "    R_1 = 1.00e+02  (+/- 3.97e-15) [Ohm]\n",
      "  CPE_1_0 = 1.00e-04  (+/- 9.00e-23) [Ohm^-1 sec^a]\n",
      "  CPE_1_1 = 9.00e-01  (+/- 6.15e-19) []\n",
      "\n"
     ]
    },
    {
     "data": {
      "image/png": "[encoded data removed]",
      "text/plain": [
       "<Figure size 640x480 with 1 Axes>"
      ]
     },
     "metadata": {},
     "output_type": "display_data"
    }
   ],
   "source": [
    "from impedance.models.circuits import CustomCircuit\n",
    "from impedance.visualization import plot_nyquist, plot_bode\n",
    "from impedance.models.circuits.elements import element\n",
    "import numpy as np\n",
    "import matplotlib.pyplot as plt\n",
    "\n",
    "@element(num_params=3,units=[\"Ohm\",\"\",\"\",\"\"])\n",
    "def TLMuni(p,f):\n",
    "    R,Q,alpha=p[0],p[1],p[2]\n",
    "    w=2*np.pi*f\n",
    "    Z=np.coth(np.sqrt(R*Q*1j*w))\n",
    "    return Z\n",
    "\n",
    "\n",
    "f=np.logspace(-1,3,100)\n",
    "c1=CustomCircuit(initial_guess=[100,1e-4,0.9],circuit=\"R_1-CPE_1\")\n",
    "\n",
    "c2=CustomCircuit(initial_guess=[100,1e-5,1,100,1e-4,0.9],circuit=\"TLMuni_1-R_1-CPE_1\")\n",
    "\n",
    "z_pred=c1.predict(frequencies=f)\n",
    "c_to_fit=CustomCircuit(initial_guess=[1,1e-3,1],circuit=\"R_1-CPE_1\")\n",
    "zpred_fit=c_to_fit.predict(frequencies=f)\n",
    "\n",
    "fig, ax=plt.subplots()\n",
    "ax.plot(np.real(zpred_fit),-np.imag(zpred_fit))\n",
    "ax.set_aspect(\"equal\")\n",
    "\n",
    "c_to_fit.fit(impedance=z_pred,frequencies=f,bounds=((0,0,0.5),(np.inf,np.inf,1)))\n",
    "print(c_to_fit)"
   ]
  }
 ],
 "metadata": {
  "kernelspec": {
   "display_name": "base",
   "language": "python",
   "name": "python3"
  },
  "language_info": {
   "codemirror_mode": {
    "name": "ipython",
    "version": 3
   },
   "file_extension": ".py",
   "mimetype": "text/x-python",
   "name": "python",
   "nbconvert_exporter": "python",
   "pygments_lexer": "ipython3",
   "version": "3.10.9"
  }
 },
 "nbformat": 4,
 "nbformat_minor": 2
}
